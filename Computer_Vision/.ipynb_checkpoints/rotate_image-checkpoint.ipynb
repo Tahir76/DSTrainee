{
 "cells": [
  {
   "cell_type": "code",
   "execution_count": 11,
   "id": "e4540caa",
   "metadata": {},
   "outputs": [],
   "source": [
    "import os\n",
    "import cv2\n",
    "import numpy as np\n",
    "from PIL import Image,ImageEnhance\n",
    "import random\n",
    "\n",
    "# set the degree interval between each rotated image\n",
    "degree_interval = 5\n",
    "\n",
    "# define the directory containing the original images\n",
    "input_dir = \"cat_dog\"\n",
    "\n",
    "# create a new directory to store the rotated images\n",
    "output_dir = \"rotated_images\"\n",
    "if not os.path.exists(output_dir):\n",
    "    os.makedirs(output_dir)\n",
    "if img is not None: # check if image is successfully loaded\n",
    "        # convert the NumPy ndarray to a PIL Image object\n",
    "        img = Image.fromarray(np.uint8(img))\n",
    "        \n",
    "noisy_dir = \"noisy_images\"\n",
    "if not os.path.exists(noisy_dir):\n",
    "    os.makedirs(noisy_dir)\n",
    "\n",
    "# define the noise levels to be applied\n",
    "noise_levels = [10, 20, 30, 40, 50]        \n",
    "\n",
    "\n",
    "# loop over each image file in the input directory\n",
    "for filename in os.listdir(input_dir):\n",
    "    # read in the original image\n",
    "    img = cv2.imread(os.path.join(input_dir, filename))\n",
    "    \n",
    "    \n",
    "    if img is not None: # check if image is successfully loaded\n",
    "        # convert the NumPy ndarray to a PIL Image object\n",
    "        img = Image.fromarray(np.uint8(img))\n",
    "        \n",
    "        # loop over each degree interval and create a rotated image\n",
    "        for i in range(72):\n",
    "            # calculate the degree of rotation for this image\n",
    "            degree = i * degree_interval\n",
    "    \n",
    "            # rotate the image and save it with the degree in the filename\n",
    "            rotated_img = img.rotate(degree)\n",
    "            output_filename = os.path.splitext(filename)[0] + \"_\" + str(degree) + \"degree.jpeg\"\n",
    "            rotated_img.save(os.path.join(output_dir, output_filename))\n",
    "            \n",
    "        for j in range(5):\n",
    "            # generate a random brightness level between 0.5 and 1.5\n",
    "            brightness_factor = random.uniform(0.5, 1.5)\n",
    "            \n",
    "            # adjust the brightness of the image and save it with the brightness level in the filename\n",
    "            brightened_img = Image.fromarray(np.uint8(img))\n",
    "            enhancer = ImageEnhance.Brightness(brightened_img)\n",
    "            brightened_img = enhancer.enhance(brightness_factor)\n",
    "            output_filename = os.path.splitext(filename)[0] + \"_\" + str(j) + \"brightness.jpeg\"\n",
    "            brightened_img.save(os.path.join('change_brightness', output_filename))\n",
    "        \n",
    "        # apply different levels of noise and save the resultant images\n",
    "        for noise_level in noise_levels:\n",
    "            noisy_img = np.array(img)\n",
    "            noise = np.random.normal(loc=0, scale=noise_level, size=noisy_img.shape)\n",
    "            noisy_img = np.clip(noisy_img + noise, 0, 255).astype(np.uint8)\n",
    "            noisy_img = Image.fromarray(noisy_img)\n",
    "            output_filename = os.path.splitext(filename)[0] + \"_\" + str(noise_level) + \"noise.jpeg\"\n",
    "            noisy_img.save(os.path.join(noisy_dir, output_filename))\n",
    "            \n",
    "            \n",
    "            \n"
   ]
  },
  {
   "cell_type": "code",
   "execution_count": 5,
   "id": "5966d417",
   "metadata": {},
   "outputs": [
    {
     "data": {
      "text/plain": [
       "'/home/tahir/Documents/PF-assignments/DSTrainee/Computer_Vision'"
      ]
     },
     "execution_count": 5,
     "metadata": {},
     "output_type": "execute_result"
    }
   ],
   "source": [
    "pwd"
   ]
  },
  {
   "cell_type": "code",
   "execution_count": 9,
   "id": "eae38088",
   "metadata": {},
   "outputs": [
    {
     "name": "stdout",
     "output_type": "stream",
     "text": [
      "cat_dog\t\t   cnic.png\t       signature.jpg\t via-2.0.8.zip\r\n",
      "cat_dog.zip\t   id_card.jpg\t       signatures.ipynb\r\n",
      "change_brightness  rotate_image.ipynb  Untitled.ipynb\r\n",
      "cnic\t\t   signature1.png      via-2.0.8\r\n"
     ]
    }
   ],
   "source": [
    "!ls"
   ]
  },
  {
   "cell_type": "code",
   "execution_count": null,
   "id": "a6cc8cbf",
   "metadata": {},
   "outputs": [],
   "source": []
  }
 ],
 "metadata": {
  "kernelspec": {
   "display_name": "Python 3 (ipykernel)",
   "language": "python",
   "name": "python3"
  },
  "language_info": {
   "codemirror_mode": {
    "name": "ipython",
    "version": 3
   },
   "file_extension": ".py",
   "mimetype": "text/x-python",
   "name": "python",
   "nbconvert_exporter": "python",
   "pygments_lexer": "ipython3",
   "version": "3.9.13"
  }
 },
 "nbformat": 4,
 "nbformat_minor": 5
}
