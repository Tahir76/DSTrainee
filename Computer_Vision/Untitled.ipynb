{
 "cells": [
  {
   "cell_type": "code",
   "execution_count": 2,
   "id": "586f618b",
   "metadata": {},
   "outputs": [],
   "source": [
    "import json\n",
    "import cv2\n",
    "import matplotlib.pyplot as plt\n"
   ]
  },
  {
   "cell_type": "code",
   "execution_count": 3,
   "id": "c2b04ba6",
   "metadata": {},
   "outputs": [
    {
     "data": {
      "text/plain": [
       "'/home/tahir/Documents/PF-assignments/DSTrainee/Computer_Vision'"
      ]
     },
     "execution_count": 3,
     "metadata": {},
     "output_type": "execute_result"
    }
   ],
   "source": [
    "pwd\n"
   ]
  },
  {
   "cell_type": "code",
   "execution_count": 4,
   "id": "089e85ef",
   "metadata": {},
   "outputs": [],
   "source": [
    "with open('cat_dog/cat_dog_annotations.json') as f:\n",
    "    data = json.load(f)\n"
   ]
  },
  {
   "cell_type": "code",
   "execution_count": 7,
   "id": "2e8223f3",
   "metadata": {},
   "outputs": [
    {
     "data": {
      "text/plain": [
       "{'_via_settings': {'ui': {'annotation_editor_height': 25,\n",
       "   'annotation_editor_fontsize': 0.8,\n",
       "   'leftsidebar_width': 18,\n",
       "   'image_grid': {'img_height': 80,\n",
       "    'rshape_fill': 'none',\n",
       "    'rshape_fill_opacity': 0.3,\n",
       "    'rshape_stroke': 'yellow',\n",
       "    'rshape_stroke_width': 2,\n",
       "    'show_region_shape': True,\n",
       "    'show_image_policy': 'all'},\n",
       "   'image': {'region_label': 'class',\n",
       "    'region_color': '__via_default_region_color__',\n",
       "    'region_label_font': '10px Sans',\n",
       "    'on_image_annotation_editor_placement': 'NEAR_REGION'}},\n",
       "  'core': {'buffer_size': 18, 'filepath': {}, 'default_filepath': ''},\n",
       "  'project': {'name': 'via_project_18Oct2022_11h49m'}},\n",
       " '_via_img_metadata': {'1.jpeg45602': {'filename': '1.jpeg',\n",
       "   'size': 45602,\n",
       "   'regions': [{'shape_attributes': {'name': 'rect',\n",
       "      'x': 284,\n",
       "      'y': 27,\n",
       "      'width': 365,\n",
       "      'height': 478},\n",
       "     'region_attributes': {'class': {'dog': True}}}],\n",
       "   'file_attributes': {}},\n",
       "  '2.jpeg4669': {'filename': '2.jpeg',\n",
       "   'size': 4669,\n",
       "   'regions': [{'shape_attributes': {'name': 'rect',\n",
       "      'x': 6,\n",
       "      'y': 39,\n",
       "      'width': 150,\n",
       "      'height': 107},\n",
       "     'region_attributes': {'class': {'dog': True}}},\n",
       "    {'shape_attributes': {'name': 'rect',\n",
       "      'x': 160,\n",
       "      'y': 77,\n",
       "      'width': 99,\n",
       "      'height': 65},\n",
       "     'region_attributes': {'class': {'cat': True}}}],\n",
       "   'file_attributes': {}},\n",
       "  '3.jpeg6828': {'filename': '3.jpeg',\n",
       "   'size': 6828,\n",
       "   'regions': [{'shape_attributes': {'name': 'rect',\n",
       "      'x': 57,\n",
       "      'y': 3,\n",
       "      'width': 186,\n",
       "      'height': 141},\n",
       "     'region_attributes': {'class': {'cat': True}}}],\n",
       "   'file_attributes': {}},\n",
       "  '4.jpeg198685': {'filename': '4.jpeg',\n",
       "   'size': 198685,\n",
       "   'regions': [{'shape_attributes': {'name': 'rect',\n",
       "      'x': 85,\n",
       "      'y': 307,\n",
       "      'width': 830,\n",
       "      'height': 1442},\n",
       "     'region_attributes': {'class': {'cat': True}}}],\n",
       "   'file_attributes': {}},\n",
       "  '5.jpeg54509': {'filename': '5.jpeg',\n",
       "   'size': 54509,\n",
       "   'regions': [{'shape_attributes': {'name': 'rect',\n",
       "      'x': 33,\n",
       "      'y': 65,\n",
       "      'width': 735,\n",
       "      'height': 738},\n",
       "     'region_attributes': {'class': {'dog': True}}}],\n",
       "   'file_attributes': {}},\n",
       "  '6.jpeg60092': {'filename': '6.jpeg',\n",
       "   'size': 60092,\n",
       "   'regions': [{'shape_attributes': {'name': 'rect',\n",
       "      'x': 89,\n",
       "      'y': 55,\n",
       "      'width': 140,\n",
       "      'height': 190},\n",
       "     'region_attributes': {'class': {'dog': True}}},\n",
       "    {'shape_attributes': {'name': 'rect',\n",
       "      'x': 242,\n",
       "      'y': 142,\n",
       "      'width': 167,\n",
       "      'height': 115},\n",
       "     'region_attributes': {'class': {'cat': True}}}],\n",
       "   'file_attributes': {}},\n",
       "  '7.jpeg394361': {'filename': '7.jpeg',\n",
       "   'size': 394361,\n",
       "   'regions': [{'shape_attributes': {'name': 'rect',\n",
       "      'x': 612,\n",
       "      'y': 192,\n",
       "      'width': 269,\n",
       "      'height': 234},\n",
       "     'region_attributes': {'class': {'dog': True}}},\n",
       "    {'shape_attributes': {'name': 'rect',\n",
       "      'x': 321,\n",
       "      'y': 252,\n",
       "      'width': 267,\n",
       "      'height': 162},\n",
       "     'region_attributes': {'class': {'cat': True}}}],\n",
       "   'file_attributes': {}}},\n",
       " '_via_attributes': {'region': {'class': {'type': 'checkbox',\n",
       "    'description': '',\n",
       "    'options': {'\"\"': '', 'cat': '', 'dog': ''},\n",
       "    'default_options': {}}},\n",
       "  'file': {}}}"
      ]
     },
     "execution_count": 7,
     "metadata": {},
     "output_type": "execute_result"
    }
   ],
   "source": [
    "data"
   ]
  },
  {
   "cell_type": "code",
   "execution_count": 6,
   "id": "8cdca6e3",
   "metadata": {},
   "outputs": [],
   "source": [
    "import pandas as pd"
   ]
  },
  {
   "cell_type": "code",
   "execution_count": 8,
   "id": "8cd70971",
   "metadata": {},
   "outputs": [],
   "source": [
    "df = pd.read_json('cat_dog/cat_dog_annotations.json')"
   ]
  },
  {
   "cell_type": "code",
   "execution_count": null,
   "id": "7deeb6ba",
   "metadata": {},
   "outputs": [],
   "source": []
  },
  {
   "cell_type": "code",
   "execution_count": 11,
   "id": "3f4e434b",
   "metadata": {},
   "outputs": [
    {
     "data": {
      "text/plain": [
       "3    {'filename': '1.jpeg', 'size': 45602, 'regions...\n",
       "4    {'filename': '2.jpeg', 'size': 4669, 'regions'...\n",
       "5    {'filename': '3.jpeg', 'size': 6828, 'regions'...\n",
       "6    {'filename': '4.jpeg', 'size': 198685, 'region...\n",
       "7    {'filename': '5.jpeg', 'size': 54509, 'regions...\n",
       "Name: _via_img_metadata, dtype: object"
      ]
     },
     "execution_count": 11,
     "metadata": {},
     "output_type": "execute_result"
    }
   ],
   "source": [
    "df1 = df.reset_index().iloc[3:10]['_via_img_metadata']\n",
    "df1.head()"
   ]
  },
  {
   "cell_type": "code",
   "execution_count": 11,
   "id": "bfbab477",
   "metadata": {},
   "outputs": [
    {
     "data": {
      "text/plain": [
       "{'name': 'rect', 'x': 284, 'y': 27, 'width': 365, 'height': 478}"
      ]
     },
     "execution_count": 11,
     "metadata": {},
     "output_type": "execute_result"
    }
   ],
   "source": [
    "df1.loc[3]['regions'][0]['shape_attributes']"
   ]
  },
  {
   "cell_type": "code",
   "execution_count": 169,
   "id": "b0ea270a",
   "metadata": {},
   "outputs": [],
   "source": [
    "for row in range(df.shape[0]):\n",
    "    data = df1\n",
    "    \n",
    "    \n",
    "    \n",
    "    "
   ]
  },
  {
   "cell_type": "code",
   "execution_count": null,
   "id": "75bcf324",
   "metadata": {},
   "outputs": [],
   "source": []
  },
  {
   "cell_type": "code",
   "execution_count": null,
   "id": "13f72662",
   "metadata": {},
   "outputs": [],
   "source": []
  },
  {
   "cell_type": "code",
   "execution_count": null,
   "id": "0ef9a762",
   "metadata": {},
   "outputs": [],
   "source": []
  },
  {
   "cell_type": "code",
   "execution_count": null,
   "id": "ec350d27",
   "metadata": {},
   "outputs": [],
   "source": []
  },
  {
   "cell_type": "code",
   "execution_count": null,
   "id": "960017a0",
   "metadata": {},
   "outputs": [],
   "source": []
  },
  {
   "cell_type": "code",
   "execution_count": null,
   "id": "ddc9f865",
   "metadata": {},
   "outputs": [],
   "source": []
  },
  {
   "cell_type": "code",
   "execution_count": null,
   "id": "0450a214",
   "metadata": {},
   "outputs": [],
   "source": []
  },
  {
   "cell_type": "code",
   "execution_count": null,
   "id": "933aeaef",
   "metadata": {},
   "outputs": [],
   "source": []
  },
  {
   "cell_type": "code",
   "execution_count": null,
   "id": "208e5b3d",
   "metadata": {},
   "outputs": [],
   "source": []
  },
  {
   "cell_type": "code",
   "execution_count": null,
   "id": "91b54c13",
   "metadata": {},
   "outputs": [],
   "source": []
  },
  {
   "cell_type": "code",
   "execution_count": null,
   "id": "a7d5183d",
   "metadata": {},
   "outputs": [],
   "source": []
  },
  {
   "cell_type": "code",
   "execution_count": null,
   "id": "85aa7dba",
   "metadata": {},
   "outputs": [],
   "source": []
  },
  {
   "cell_type": "code",
   "execution_count": null,
   "id": "82032eb4",
   "metadata": {},
   "outputs": [],
   "source": []
  },
  {
   "cell_type": "code",
   "execution_count": null,
   "id": "df569f5d",
   "metadata": {},
   "outputs": [],
   "source": []
  },
  {
   "cell_type": "code",
   "execution_count": null,
   "id": "1854ac7a",
   "metadata": {},
   "outputs": [],
   "source": []
  },
  {
   "cell_type": "code",
   "execution_count": null,
   "id": "836ab5b5",
   "metadata": {},
   "outputs": [],
   "source": []
  },
  {
   "cell_type": "code",
   "execution_count": 178,
   "id": "4389bd55",
   "metadata": {},
   "outputs": [],
   "source": []
  },
  {
   "cell_type": "code",
   "execution_count": 191,
   "id": "4e7b0fcd",
   "metadata": {},
   "outputs": [
    {
     "data": {
      "text/plain": [
       "3    {'filename': '7.jpeg', 'size': 394361, 'region...\n",
       "Name: _via_img_metadata, dtype: object"
      ]
     },
     "execution_count": 191,
     "metadata": {},
     "output_type": "execute_result"
    }
   ],
   "source": [
    "df1 = df.reset_index().iloc[3:10]['_via_img_metadata']\n",
    "df1.head()"
   ]
  },
  {
   "cell_type": "code",
   "execution_count": 12,
   "id": "4e49749c",
   "metadata": {},
   "outputs": [
    {
     "data": {
      "text/plain": [
       "dict"
      ]
     },
     "execution_count": 12,
     "metadata": {},
     "output_type": "execute_result"
    }
   ],
   "source": [
    "type(data)"
   ]
  },
  {
   "cell_type": "code",
   "execution_count": 22,
   "id": "d8f1a778",
   "metadata": {},
   "outputs": [
    {
     "data": {
      "text/plain": [
       "{'filename': '1.jpeg',\n",
       " 'size': 45602,\n",
       " 'regions': [{'shape_attributes': {'name': 'rect',\n",
       "    'x': 284,\n",
       "    'y': 27,\n",
       "    'width': 365,\n",
       "    'height': 478},\n",
       "   'region_attributes': {'class': {'dog': True}}}],\n",
       " 'file_attributes': {}}"
      ]
     },
     "execution_count": 22,
     "metadata": {},
     "output_type": "execute_result"
    }
   ],
   "source": [
    "data['_via_img_metadata']['1.jpeg45602']"
   ]
  },
  {
   "cell_type": "code",
   "execution_count": null,
   "id": "85943cea",
   "metadata": {},
   "outputs": [],
   "source": []
  }
 ],
 "metadata": {
  "kernelspec": {
   "display_name": "Python 3 (ipykernel)",
   "language": "python",
   "name": "python3"
  },
  "language_info": {
   "codemirror_mode": {
    "name": "ipython",
    "version": 3
   },
   "file_extension": ".py",
   "mimetype": "text/x-python",
   "name": "python",
   "nbconvert_exporter": "python",
   "pygments_lexer": "ipython3",
   "version": "3.9.13"
  }
 },
 "nbformat": 4,
 "nbformat_minor": 5
}
