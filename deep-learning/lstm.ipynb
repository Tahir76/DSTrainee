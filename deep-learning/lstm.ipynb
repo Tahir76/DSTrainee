{
  "nbformat": 4,
  "nbformat_minor": 0,
  "metadata": {
    "colab": {
      "provenance": []
    },
    "kernelspec": {
      "name": "python3",
      "display_name": "Python 3"
    },
    "language_info": {
      "name": "python"
    },
    "accelerator": "GPU",
    "gpuClass": "standard"
  },
  "cells": [
    {
      "cell_type": "code",
      "source": [
        "#import libraries\n",
        "import tensorflow as tf\n",
        "from tensorflow.keras.datasets import imdb\n",
        "from tensorflow.keras.layers import Embedding, Dense, LSTM\n",
        "from tensorflow.keras.losses import BinaryCrossentropy\n",
        "from tensorflow.keras.models import Sequential\n",
        "from tensorflow.keras.optimizers import Adam\n",
        "from tensorflow.keras.preprocessing.sequence import pad_sequences"
      ],
      "metadata": {
        "id": "OhJSGmMZz1vq"
      },
      "execution_count": 14,
      "outputs": []
    },
    {
      "cell_type": "code",
      "source": [
        "# Model configuration\n",
        "additional_metrics = ['accuracy']\n",
        "batch_size = 128\n",
        "embedding_output_dims = 15\n",
        "loss_function = BinaryCrossentropy()\n",
        "max_sequence_length = 300\n",
        "num_distinct_words = 5000\n",
        "number_of_epochs = 5\n",
        "optimizer = tf.keras.optimizers.legacy.Adam(learning_rate=0.01)\n",
        "validation_split = 0.20\n",
        "verbosity_mode = 1"
      ],
      "metadata": {
        "id": "1jOdytgiz2Yo"
      },
      "execution_count": 15,
      "outputs": []
    },
    {
      "cell_type": "code",
      "source": [
        "# Disable eager execution\n",
        "tf.compat.v1.disable_eager_execution()"
      ],
      "metadata": {
        "id": "bVcmu_vs0i_d"
      },
      "execution_count": 16,
      "outputs": []
    },
    {
      "cell_type": "code",
      "source": [
        "# Load dataset\n",
        "(x_train, y_train), (x_test, y_test) = imdb.load_data(num_words=num_distinct_words)\n",
        "print(x_train.shape)\n",
        "print(x_test.shape)"
      ],
      "metadata": {
        "colab": {
          "base_uri": "https://localhost:8080/"
        },
        "id": "Dqaf9ZR20osv",
        "outputId": "f644f9a8-4604-4e71-94e3-1040d463686f"
      },
      "execution_count": 17,
      "outputs": [
        {
          "output_type": "stream",
          "name": "stdout",
          "text": [
            "(25000,)\n",
            "(25000,)\n"
          ]
        }
      ]
    },
    {
      "cell_type": "code",
      "source": [
        "# Pad all sequences\n",
        "padded_inputs = pad_sequences(x_train, maxlen=max_sequence_length, value = 0.0) # 0.0 because it corresponds with <PAD>\n",
        "padded_inputs_test = pad_sequences(x_test, maxlen=max_sequence_length, value = 0.0) # 0.0 because it corresponds with <PAD>"
      ],
      "metadata": {
        "id": "yruwkPMv1FQa"
      },
      "execution_count": 18,
      "outputs": []
    },
    {
      "cell_type": "code",
      "source": [
        "# Define the Keras model\n",
        "model = Sequential()\n",
        "model.add(Embedding(num_distinct_words, embedding_output_dims, input_length=max_sequence_length))\n",
        "model.add(LSTM(10))\n",
        "model.add(Dense(1, activation='sigmoid'))"
      ],
      "metadata": {
        "colab": {
          "base_uri": "https://localhost:8080/"
        },
        "id": "9pDsR4Fr1UQ8",
        "outputId": "1311db08-57e3-4a31-b067-7ab294b182e3"
      },
      "execution_count": 19,
      "outputs": [
        {
          "output_type": "stream",
          "name": "stderr",
          "text": [
            "WARNING:tensorflow:Layer lstm_4 will not use cuDNN kernels since it doesn't meet the criteria. It will use a generic GPU kernel as fallback when running on GPU.\n"
          ]
        }
      ]
    },
    {
      "cell_type": "code",
      "source": [
        "\n",
        "# Compile the model\n",
        "model.compile(optimizer=optimizer, loss=loss_function, metrics=additional_metrics)"
      ],
      "metadata": {
        "id": "FoYaQ1Ii3ZXm"
      },
      "execution_count": 20,
      "outputs": []
    },
    {
      "cell_type": "code",
      "source": [
        "# Give a summary\n",
        "model.summary()"
      ],
      "metadata": {
        "colab": {
          "base_uri": "https://localhost:8080/"
        },
        "id": "zzu7zu2x3d72",
        "outputId": "c4f3239d-103b-4aff-f07d-f420cb5238e8"
      },
      "execution_count": 21,
      "outputs": [
        {
          "output_type": "stream",
          "name": "stdout",
          "text": [
            "Model: \"sequential_4\"\n",
            "_________________________________________________________________\n",
            " Layer (type)                Output Shape              Param #   \n",
            "=================================================================\n",
            " embedding_4 (Embedding)     (None, 300, 15)           75000     \n",
            "                                                                 \n",
            " lstm_4 (LSTM)               (None, 10)                1040      \n",
            "                                                                 \n",
            " dense_4 (Dense)             (None, 1)                 11        \n",
            "                                                                 \n",
            "=================================================================\n",
            "Total params: 76,051\n",
            "Trainable params: 76,051\n",
            "Non-trainable params: 0\n",
            "_________________________________________________________________\n"
          ]
        }
      ]
    },
    {
      "cell_type": "code",
      "source": [
        "# Train the model\n",
        "history = model.fit(padded_inputs, y_train, batch_size=batch_size, epochs=number_of_epochs, verbose=verbosity_mode, validation_split=validation_split)\n",
        "\n",
        "# Test the model after training\n",
        "test_results = model.evaluate(padded_inputs_test, y_test, verbose=False)\n",
        "print(f'Test results - Loss: {test_results[0]} - Accuracy: {100*test_results[1]}%')"
      ],
      "metadata": {
        "colab": {
          "base_uri": "https://localhost:8080/"
        },
        "id": "-0R9BehM3h7P",
        "outputId": "4c539cfd-ee16-441e-9ddc-5edefa4671e7"
      },
      "execution_count": 22,
      "outputs": [
        {
          "output_type": "stream",
          "name": "stdout",
          "text": [
            "Train on 20000 samples, validate on 5000 samples\n",
            "Epoch 1/5\n",
            "20000/20000 [==============================] - 52s 3ms/sample - loss: 0.5038 - accuracy: 0.7581 - val_loss: 0.4607 - val_accuracy: 0.7852\n",
            "Epoch 2/5\n",
            "20000/20000 [==============================] - 51s 3ms/sample - loss: 0.4427 - accuracy: 0.7964 - val_loss: 0.5613 - val_accuracy: 0.6974\n",
            "Epoch 3/5\n",
            "20000/20000 [==============================] - 51s 3ms/sample - loss: 0.3833 - accuracy: 0.8302 - val_loss: 0.4105 - val_accuracy: 0.8334\n",
            "Epoch 4/5\n",
            "20000/20000 [==============================] - 50s 3ms/sample - loss: 0.2599 - accuracy: 0.8935 - val_loss: 0.3513 - val_accuracy: 0.8620\n",
            "Epoch 5/5\n",
            "20000/20000 [==============================] - 50s 2ms/sample - loss: 0.1972 - accuracy: 0.9234 - val_loss: 0.3485 - val_accuracy: 0.8654\n",
            "Test results - Loss: 0.36571957081794737 - Accuracy: 85.99200248718262%\n"
          ]
        }
      ]
    },
    {
      "cell_type": "code",
      "source": [],
      "metadata": {
        "id": "CfKeCyD03oRJ"
      },
      "execution_count": null,
      "outputs": []
    }
  ]
}